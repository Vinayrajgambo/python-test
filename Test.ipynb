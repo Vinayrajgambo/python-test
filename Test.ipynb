{
 "cells": [
  {
   "cell_type": "code",
   "execution_count": 16,
   "metadata": {},
   "outputs": [
    {
     "name": "stdout",
     "output_type": "stream",
     "text": [
      "True\n"
     ]
    }
   ],
   "source": [
    "#pyhton first question answer\n",
    "\n",
    "def s_matrix(matrix, target):\n",
    "  m, n = len(matrix), len(matrix[0])\n",
    "  i, j = 0, n - 1\n",
    "  while i < m and j >= 0:\n",
    "    if matrix[i][j] == target:\n",
    "      return True\n",
    "    elif matrix[i][j] > target:\n",
    "      j -= 1\n",
    "    else:\n",
    "      i += 1 \n",
    "  return False\n",
    "\n",
    "\n",
    "matrix = [[1,3,5,7],[10,11,16,20],[23,30,34,60]]\n",
    "target = 3\n",
    "result = s_matrix(matrix, target)\n",
    "print(result) "
   ]
  },
  {
   "cell_type": "code",
   "execution_count": 9,
   "metadata": {},
   "outputs": [
    {
     "name": "stdout",
     "output_type": "stream",
     "text": [
      "False\n"
     ]
    }
   ],
   "source": [
    "matrix = [[1,2,5,7],[10,12,16,20],[23,32,34,60],[65,85,105,525]]\n",
    "target = 230\n",
    "result = s_matrix(matrix, target)\n",
    "print(result)"
   ]
  },
  {
   "cell_type": "code",
   "execution_count": 15,
   "metadata": {},
   "outputs": [
    {
     "name": "stdout",
     "output_type": "stream",
     "text": [
      "5\n",
      "3\n",
      "5\n"
     ]
    }
   ],
   "source": [
    "#python 2nd question\n",
    "\n",
    "def most_frequent_word(string):\n",
    "    words = string.lower().split()\n",
    "\n",
    "    word_counts = {}\n",
    "    for word in words:\n",
    "        word_counts[word] = word_counts.get(word, 0) + 1\n",
    "\n",
    "    max_frequency = 0\n",
    "    max_word = \"\"\n",
    "    for word, count in word_counts.items():\n",
    "        if count > max_frequency:\n",
    "            max_frequency = count\n",
    "            max_word = word\n",
    "    return len(max_word)\n",
    "\n",
    "\n",
    "string1 = \"write write write all the number from from from 1 to 100\"\n",
    "string2 = \"one two three one two three one two three four five\"\n",
    "string3 = \"hello world hello world hello world hello hello\"\n",
    "\n",
    "print(most_frequent_word(string1)) \n",
    "print(most_frequent_word(string2))  \n",
    "print(most_frequent_word(string3))  \n"
   ]
  },
  {
   "cell_type": "code",
   "execution_count": null,
   "metadata": {},
   "outputs": [],
   "source": [
    "# ML second question theory answer :\n",
    "\n",
    "\n",
    "\"\"\" Explain how you can implement ML in a real world application.\n",
    "ANswer: There are several steps to implement the ML modelin real world applicaiton.\n",
    "\n",
    "1. Defining the problem: what exactly the input has and no. of input pameters and what we need to predict \n",
    "2. Data collection: Data can be provided or we need to collect the data from real world applications\n",
    "3. Data processing: Need to process the data by handling missing values, encoding categorical values, normalizing or scaling.\n",
    "4. feature enginnering : Extract and create the feature from raw data.\n",
    "5. Model selection: Based on data understanding need to select the model (regression, classification,clustering,etc)\n",
    "6. model training : Train the model by splitting the data in training data \n",
    "7. model evaluation: Test the model by providing the test data which model never seen before.\n",
    "8. Hyperparameter tuning: fine Tune the model to improve the performance \n",
    "9. deployemnt: deploy the model for produciton.\n",
    "10.maintenance and monitor: Monitor the model in production environment and make changes based on requirement. \"\"\""
   ]
  }
 ],
 "metadata": {
  "kernelspec": {
   "display_name": "Python 3",
   "language": "python",
   "name": "python3"
  },
  "language_info": {
   "codemirror_mode": {
    "name": "ipython",
    "version": 3
   },
   "file_extension": ".py",
   "mimetype": "text/x-python",
   "name": "python",
   "nbconvert_exporter": "python",
   "pygments_lexer": "ipython3",
   "version": "3.11.4"
  }
 },
 "nbformat": 4,
 "nbformat_minor": 2
}
